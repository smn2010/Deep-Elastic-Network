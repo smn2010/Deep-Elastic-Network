{
 "cells": [
  {
   "cell_type": "code",
   "execution_count": 1,
   "metadata": {},
   "outputs": [
    {
     "data": {
      "text/plain": [
       "'/home/ubuntu/Dataset'"
      ]
     },
     "execution_count": 1,
     "metadata": {},
     "output_type": "execute_result"
    }
   ],
   "source": [
    "pwd"
   ]
  },
  {
   "cell_type": "code",
   "execution_count": 1,
   "metadata": {},
   "outputs": [],
   "source": [
    "dataset_root = '/home/ShiMengnan/Dataset/tiny-imagenet-200'"
   ]
  },
  {
   "cell_type": "code",
   "execution_count": 2,
   "metadata": {},
   "outputs": [],
   "source": [
    "n_categories = 200\n",
    "cate_label_dict = {}\n",
    "with open(dataset_root + '/wnids.txt', 'r') as f:\n",
    "    for i in range(n_categories):\n",
    "        line = f.readline()\n",
    "        tmp = line.split()\n",
    "        cate_label_dict[tmp[0]] = i"
   ]
  },
  {
   "cell_type": "code",
   "execution_count": 3,
   "metadata": {},
   "outputs": [],
   "source": [
    "import os"
   ]
  },
  {
   "cell_type": "code",
   "execution_count": 4,
   "metadata": {},
   "outputs": [],
   "source": [
    "train_dir_list = os.listdir(dataset_root + '/train')"
   ]
  },
  {
   "cell_type": "code",
   "execution_count": 5,
   "metadata": {},
   "outputs": [],
   "source": [
    "n_samples_per_category = 200\n",
    "with open(dataset_root + '/train.txt', 'w') as f:\n",
    "    for i in range(n_categories):\n",
    "        train_dir = train_dir_list[i]\n",
    "        label = str(cate_label_dict[train_dir])\n",
    "        \n",
    "        with open(dataset_root+'/train/'+train_dir+'/'+train_dir+'_boxes.txt', 'r') as fr:\n",
    "            while(True):\n",
    "                line = fr.readline()\n",
    "                if (line==''): break\n",
    "                tmp = line.split()\n",
    "                f.write('/train/'+train_dir+'/images/'+tmp[0]+ ' ' + label +'\\n')        "
   ]
  },
  {
   "cell_type": "code",
   "execution_count": 6,
   "metadata": {},
   "outputs": [],
   "source": [
    "with open(dataset_root + '/test.txt', 'w') as f:    \n",
    "    with open(dataset_root+'/val/val_annotations.txt', 'r') as fr:\n",
    "        while(True):\n",
    "            line = fr.readline()\n",
    "            if (line==''): break\n",
    "            tmp = line.split()\n",
    "            label = str(cate_label_dict[tmp[1]])\n",
    "            \n",
    "            f.write('/val/images/'+tmp[0]+ ' ' +label+'\\n')        "
   ]
  }
 ],
 "metadata": {
  "kernelspec": {
   "display_name": "Python 3",
   "language": "python",
   "name": "python3"
  },
  "language_info": {
   "codemirror_mode": {
    "name": "ipython",
    "version": 3
   },
   "file_extension": ".py",
   "mimetype": "text/x-python",
   "name": "python",
   "nbconvert_exporter": "python",
   "pygments_lexer": "ipython3",
   "version": "3.7.4"
  }
 },
 "nbformat": 4,
 "nbformat_minor": 4
}
